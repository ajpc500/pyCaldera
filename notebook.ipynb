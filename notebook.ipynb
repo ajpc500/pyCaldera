{
 "cells": [
  {
   "cell_type": "markdown",
   "metadata": {},
   "source": [
    "# pyCaldera"
   ]
  },
  {
   "cell_type": "markdown",
   "metadata": {},
   "source": [
    "## Setup"
   ]
  },
  {
   "cell_type": "markdown",
   "metadata": {},
   "source": [
    "First we need to import the python API library and set our API key and Caldera server URL.\n",
    "> NOTE: API keys can be fetched for red and blue groups from `conf/local.yml`"
   ]
  },
  {
   "cell_type": "code",
   "execution_count": 18,
   "metadata": {},
   "outputs": [],
   "source": [
    "import caldera_api as api\n",
    "CALDERA_URL = 'http://3.141.7.127:8888'\n",
    "CALDERA_API_KEY = input('Enter API key: ')"
   ]
  },
  {
   "cell_type": "code",
   "execution_count": 19,
   "metadata": {},
   "outputs": [
    {
     "name": "stdout",
     "output_type": "stream",
     "text": [
      "\n",
      "                          ###                           \n",
      "                       #######                          \n",
      "                 ### ### #######                        \n",
      "                ######  ##############                  \n",
      "               ##  ###  ##########   ##                 \n",
      "              ### ###############    ####               \n",
      "            ####################### ######              \n",
      "           #################################            \n",
      "          ####################################          \n",
      "        #######################################         MITRE Caldera\n",
      "       ##########################################           Python API\n",
      "     ##############################################     \n",
      "    ################################################    \n",
      "   ##################################################   \n",
      "                                                        \n",
      " ######   ####   ##     ######   ###### ######    ####  \n",
      "###      ##  ##  ##     ##  ###  ##     ##  ###  ##  ## \n",
      "###      ######  ##     ##  ###  ##     ######   #######\n",
      " ######  ##  ##  #####  ######   ###### ###  ### ###  ###\n",
      "        \n",
      "Initialising Caldera API library\n",
      "URL: http://3.141.7.127:8888\n"
     ]
    }
   ],
   "source": [
    "debug = True\n",
    "caldera = api.Caldera(CALDERA_API_KEY, CALDERA_URL, debug=debug)"
   ]
  },
  {
   "cell_type": "code",
   "execution_count": 3,
   "metadata": {},
   "outputs": [
    {
     "name": "stdout",
     "output_type": "stream",
     "text": [
      "Caldera 5.0.0\n",
      "\n",
      "Plugins:\n",
      "+-------------+---------------------------------------------------------------------+---------+\n",
      "| Plugin Name | Description                                                         | Enabled |\n",
      "+-------------+---------------------------------------------------------------------+---------+\n",
      "|    access   | A toolkit containing initial access throwing modules                |   True  |\n",
      "|    atomic   | The collection of abilities in the Red Canary Atomic test project   |  False  |\n",
      "|   compass   | Use the compass to Navigate Caldera                                 |   True  |\n",
      "|   debrief   | some good bones                                                     |   True  |\n",
      "|     emu     | The collection of abilities from the CTID Adversary Emulation Plans |  False  |\n",
      "| fieldmanual | Holds and serves Caldera documentation                              |   True  |\n",
      "|  gameboard  | Monitor a red-and-blue team operation                               |  False  |\n",
      "|    human    | Emulate human behavior on a system                                  |  False  |\n",
      "|    magma    | Caldera's user interface plugin powered by VueJS                    |   True  |\n",
      "|     manx    | A toolset which supports terminal access                            |   True  |\n",
      "|   response  | An automated incident response plugin                               |   True  |\n",
      "|   sandcat   | A custom multi-platform RAT                                         |   True  |\n",
      "|     ssl     | Run an SSL proxy in front of the server                             |  False  |\n",
      "|  stockpile  | A stockpile of abilities, adversaries, payloads and planners        |   True  |\n",
      "|   training  | A certification course to become a Caldera SME                      |   True  |\n",
      "+-------------+---------------------------------------------------------------------+---------+\n",
      "✅ Authed to Caldera 5.0.0 as RED\n"
     ]
    }
   ],
   "source": [
    "health = caldera.get_server_health()\n",
    "print(f\"✅ Authed to {health['application']} {health['version']} as {health['access']}\")"
   ]
  },
  {
   "cell_type": "markdown",
   "metadata": {},
   "source": [
    "## List Abilities"
   ]
  },
  {
   "cell_type": "markdown",
   "metadata": {},
   "source": [
    "First, we can see what abilities Caldera is currently loaded with, in this case just showing a subset in a table."
   ]
  },
  {
   "cell_type": "code",
   "execution_count": 4,
   "metadata": {},
   "outputs": [
    {
     "name": "stdout",
     "output_type": "stream",
     "text": [
      "URL: http://3.141.7.127:8888/api/v2/abilities?\n",
      "Caldera currently has 167 abilities\n"
     ]
    }
   ],
   "source": [
    "current_abilities = caldera.get_abilities(print_table=False)\n",
    "print(f\"Caldera currently has {len(current_abilities)} abilities\")"
   ]
  },
  {
   "cell_type": "code",
   "execution_count": 5,
   "metadata": {},
   "outputs": [
    {
     "data": {
      "text/html": [
       "<table>\n",
       "    <thead>\n",
       "        <tr>\n",
       "            <th>ID</th>\n",
       "            <th>Name</th>\n",
       "            <th>Tactic</th>\n",
       "            <th>Technique</th>\n",
       "            <th>Executors</th>\n",
       "            <th>Platforms</th>\n",
       "            <th>Description</th>\n",
       "        </tr>\n",
       "    </thead>\n",
       "    <tbody>\n",
       "        <tr>\n",
       "            <td>36eecb80-ede3-442b-8774-956e906aff02</td>\n",
       "            <td>1-min sleep</td>\n",
       "            <td>defense-evasion</td>\n",
       "            <td>T1497.003</td>\n",
       "            <td>psh, sh</td>\n",
       "            <td>darwin, linux, windows</td>\n",
       "            <td>Pause all operations to avoid making</td>\n",
       "        </tr>\n",
       "        <tr>\n",
       "            <td></td>\n",
       "            <td></td>\n",
       "            <td></td>\n",
       "            <td></td>\n",
       "            <td></td>\n",
       "            <td></td>\n",
       "            <td>noise</td>\n",
       "        </tr>\n",
       "        <tr>\n",
       "            <td>c7ec57cd-933e-42b6-99a4-e852a9e57a33</td>\n",
       "            <td>Account Discovery (all)</td>\n",
       "            <td>discovery</td>\n",
       "            <td>T1087.002</td>\n",
       "            <td>cmd</td>\n",
       "            <td>windows</td>\n",
       "            <td>The net utility is executed via cmd to</td>\n",
       "        </tr>\n",
       "        <tr>\n",
       "            <td></td>\n",
       "            <td></td>\n",
       "            <td></td>\n",
       "            <td></td>\n",
       "            <td></td>\n",
       "            <td></td>\n",
       "            <td>enumerate domain user accounts.</td>\n",
       "        </tr>\n",
       "        <tr>\n",
       "            <td>364ea817-bbb9-4083-87dd-94b9dba45f6f</td>\n",
       "            <td>Account Discovery (targeted)</td>\n",
       "            <td>discovery</td>\n",
       "            <td>T1087.002</td>\n",
       "            <td>psh, cmd</td>\n",
       "            <td>windows</td>\n",
       "            <td>The net utility is executed via cmd to</td>\n",
       "        </tr>\n",
       "        <tr>\n",
       "            <td></td>\n",
       "            <td></td>\n",
       "            <td></td>\n",
       "            <td></td>\n",
       "            <td></td>\n",
       "            <td></td>\n",
       "            <td>enumerate detailed information about a</td>\n",
       "        </tr>\n",
       "        <tr>\n",
       "            <td></td>\n",
       "            <td></td>\n",
       "            <td></td>\n",
       "            <td></td>\n",
       "            <td></td>\n",
       "            <td></td>\n",
       "            <td>specific user account.</td>\n",
       "        </tr>\n",
       "        <tr>\n",
       "            <td>2afae782-6d0a-4fbd-a6b6-d1ce90090eac</td>\n",
       "            <td>Account-type Admin Enumerator</td>\n",
       "            <td>discovery</td>\n",
       "            <td>T1069.002</td>\n",
       "            <td>psh</td>\n",
       "            <td>windows</td>\n",
       "            <td>Use PowerView to query the Active</td>\n",
       "        </tr>\n",
       "        <tr>\n",
       "            <td></td>\n",
       "            <td></td>\n",
       "            <td></td>\n",
       "            <td></td>\n",
       "            <td></td>\n",
       "            <td></td>\n",
       "            <td>Directory server to determine remote</td>\n",
       "        </tr>\n",
       "        <tr>\n",
       "            <td></td>\n",
       "            <td></td>\n",
       "            <td></td>\n",
       "            <td></td>\n",
       "            <td></td>\n",
       "            <td></td>\n",
       "            <td>admins</td>\n",
       "        </tr>\n",
       "        <tr>\n",
       "            <td>de52784d-4de6-4d4e-b79e-e7b68fe037fb</td>\n",
       "            <td>Add bookmark</td>\n",
       "            <td>execution</td>\n",
       "            <td>T1059.002</td>\n",
       "            <td>sh</td>\n",
       "            <td>darwin</td>\n",
       "            <td>Add a malicous bookmark which looks like</td>\n",
       "        </tr>\n",
       "        <tr>\n",
       "            <td></td>\n",
       "            <td></td>\n",
       "            <td></td>\n",
       "            <td></td>\n",
       "            <td></td>\n",
       "            <td></td>\n",
       "            <td>a current one</td>\n",
       "        </tr>\n",
       "    </tbody>\n",
       "</table>"
      ],
      "text/plain": [
       "+--------------------------------------+-------------------------------+-----------------+-----------+-----------+------------------------+------------------------------------------+\n",
       "|                  ID                  |              Name             |      Tactic     | Technique | Executors |       Platforms        | Description                              |\n",
       "+--------------------------------------+-------------------------------+-----------------+-----------+-----------+------------------------+------------------------------------------+\n",
       "| 36eecb80-ede3-442b-8774-956e906aff02 |          1-min sleep          | defense-evasion | T1497.003 |  psh, sh  | darwin, linux, windows | Pause all operations to avoid making     |\n",
       "|                                      |                               |                 |           |           |                        | noise                                    |\n",
       "| c7ec57cd-933e-42b6-99a4-e852a9e57a33 |    Account Discovery (all)    |    discovery    | T1087.002 |    cmd    |        windows         | The net utility is executed via cmd to   |\n",
       "|                                      |                               |                 |           |           |                        | enumerate domain user accounts.          |\n",
       "| 364ea817-bbb9-4083-87dd-94b9dba45f6f |  Account Discovery (targeted) |    discovery    | T1087.002 |  psh, cmd |        windows         | The net utility is executed via cmd to   |\n",
       "|                                      |                               |                 |           |           |                        | enumerate detailed information about a   |\n",
       "|                                      |                               |                 |           |           |                        | specific user account.                   |\n",
       "| 2afae782-6d0a-4fbd-a6b6-d1ce90090eac | Account-type Admin Enumerator |    discovery    | T1069.002 |    psh    |        windows         | Use PowerView to query the Active        |\n",
       "|                                      |                               |                 |           |           |                        | Directory server to determine remote     |\n",
       "|                                      |                               |                 |           |           |                        | admins                                   |\n",
       "| de52784d-4de6-4d4e-b79e-e7b68fe037fb |          Add bookmark         |    execution    | T1059.002 |     sh    |         darwin         | Add a malicous bookmark which looks like |\n",
       "|                                      |                               |                 |           |           |                        | a current one                            |\n",
       "+--------------------------------------+-------------------------------+-----------------+-----------+-----------+------------------------+------------------------------------------+"
      ]
     },
     "execution_count": 5,
     "metadata": {},
     "output_type": "execute_result"
    }
   ],
   "source": [
    "caldera._generate_abilities_table(current_abilities[:5], print_table=False)"
   ]
  },
  {
   "cell_type": "markdown",
   "metadata": {},
   "source": [
    "## Import New Abilities"
   ]
  },
  {
   "cell_type": "markdown",
   "metadata": {},
   "source": [
    "First we'll enumerate over the contents of the neighbouring `abilities` directory and save the YAML contents into a list"
   ]
  },
  {
   "cell_type": "code",
   "execution_count": 6,
   "metadata": {},
   "outputs": [
    {
     "name": "stdout",
     "output_type": "stream",
     "text": [
      "Found 5 abilities in the abilities directory\n"
     ]
    }
   ],
   "source": [
    "import yaml, os\n",
    "new_abilities_dict = []\n",
    "# walk over the abilities directory and load the YAML into the new_abilities_dict\n",
    "\n",
    "for root, dirs, files in os.walk('abilities'):\n",
    "    for file in files:\n",
    "        if file.endswith('.yml'):\n",
    "            with open(os.path.join(root, file), 'r') as f:\n",
    "                new_abilities_dict.extend(yaml.safe_load(f))\n",
    "\n",
    "print(f\"Found {len(new_abilities_dict)} abilities in the abilities directory\")"
   ]
  },
  {
   "cell_type": "markdown",
   "metadata": {},
   "source": [
    "Then, we'll upload each one to Caldera"
   ]
  },
  {
   "cell_type": "code",
   "execution_count": 7,
   "metadata": {},
   "outputs": [
    {
     "name": "stdout",
     "output_type": "stream",
     "text": [
      "URL: http://3.141.7.127:8888/api/v2/abilities/dd9aa249-f4a4-4903-b50e-3ede12525891\n",
      "✅ Find Kerberoastable Users with PowerView (dd9aa249-f4a4-4903-b50e-3ede12525891)\n",
      "URL: http://3.141.7.127:8888/api/v2/abilities/3b6fa618-b650-4691-8d58-b3239752565b\n",
      "✅ Enumerate Domain Controllers with Nltest (3b6fa618-b650-4691-8d58-b3239752565b)\n",
      "URL: http://3.141.7.127:8888/api/v2/abilities/2a2867c0-062e-4ab8-8096-0d5072b06fff\n",
      "✅ Enumerate Servers with PowerView (2a2867c0-062e-4ab8-8096-0d5072b06fff)\n",
      "URL: http://3.141.7.127:8888/api/v2/abilities/c730bb97-d247-459a-8564-24dccd640bba\n",
      "✅ Enumerate Domain Trusts with Nltest (c730bb97-d247-459a-8564-24dccd640bba)\n",
      "URL: http://3.141.7.127:8888/api/v2/abilities/e1eb3c85-af93-4cac-888c-235957f9944c\n",
      "✅ Enumerate Domain Admins with Net (e1eb3c85-af93-4cac-888c-235957f9944c)\n"
     ]
    }
   ],
   "source": [
    "for ability in new_abilities_dict:\n",
    "    output = caldera.add_ability(ability)\n",
    "    print(f\"✅ {output['name']} ({output['ability_id']})\")"
   ]
  },
  {
   "cell_type": "code",
   "execution_count": 10,
   "metadata": {},
   "outputs": [
    {
     "name": "stdout",
     "output_type": "stream",
     "text": [
      "URL: http://3.141.7.127:8888/api/v2/abilities/dd9aa249-f4a4-4903-b50e-3ede12525891?\n",
      "+--------------------------------------+------------------------------------------+-----------+-----------+-----------+-----------+------------------------------------------+\n",
      "|                  ID                  |                   Name                   |   Tactic  | Technique | Executors | Platforms | Description                              |\n",
      "+--------------------------------------+------------------------------------------+-----------+-----------+-----------+-----------+------------------------------------------+\n",
      "| dd9aa249-f4a4-4903-b50e-3ede12525891 | Find Kerberoastable Users with PowerView | discovery | T1087.002 |    psh    |  windows  | Use powerview's Get-DomainUser cmdlet to |\n",
      "|                                      |                                          |           |           |           |           | enumerate users in the Active Directory  |\n",
      "|                                      |                                          |           |           |           |           | environment using an LDAP filter to find |\n",
      "|                                      |                                          |           |           |           |           | those with the servicePrincipalName      |\n",
      "|                                      |                                          |           |           |           |           | attribute populated                      |\n",
      "+--------------------------------------+------------------------------------------+-----------+-----------+-----------+-----------+------------------------------------------+\n"
     ]
    }
   ],
   "source": [
    "ability = caldera.get_abilities(id='dd9aa249-f4a4-4903-b50e-3ede12525891')"
   ]
  },
  {
   "cell_type": "markdown",
   "metadata": {},
   "source": [
    "## Create Adversary Profile"
   ]
  },
  {
   "cell_type": "markdown",
   "metadata": {},
   "source": [
    "Let's create a new profile containing our new abilities"
   ]
  },
  {
   "cell_type": "code",
   "execution_count": 11,
   "metadata": {},
   "outputs": [],
   "source": [
    "ordered_atomic_ids = [a['id'] for a in new_abilities_dict]\n",
    "new_profile = caldera.add_adversary_profile(\n",
    "    name=\"AGPT Active Directory Enumeration\",\n",
    "    description=\"Active Directory Reconnaissance Leveraging Native Commands and PowerView\",\n",
    "    atomic_ordering=ordered_atomic_ids,\n",
    "    tags=['AGPT', 'Active Directory', 'Enumeration']\n",
    ")"
   ]
  },
  {
   "cell_type": "code",
   "execution_count": 12,
   "metadata": {},
   "outputs": [
    {
     "name": "stdout",
     "output_type": "stream",
     "text": [
      "+--------------------------------------+-----------------------------------+------------------------------------------+--------------------------------------+----------------------------------------------------------------------------------------------------------------------------------------------------------------------------------------------------------+---------------------------------------------+\n",
      "|                  ID                  |                Name               | Description                              |              Objective               |                                                                                                Abilities                                                                                                 |                     Tags                    |\n",
      "+--------------------------------------+-----------------------------------+------------------------------------------+--------------------------------------+----------------------------------------------------------------------------------------------------------------------------------------------------------------------------------------------------------+---------------------------------------------+\n",
      "| 5fd29e7f-93f4-4c79-a757-0aeed38316d6 | AGPT Active Directory Enumeration | Active Directory Reconnaissance          | 495a9828-cab1-44dd-a0ca-66e58177d8cc | ['dd9aa249-f4a4-4903-b50e-3ede12525891', '3b6fa618-b650-4691-8d58-b3239752565b', '2a2867c0-062e-4ab8-8096-0d5072b06fff', 'c730bb97-d247-459a-8564-24dccd640bba', 'e1eb3c85-af93-4cac-888c-235957f9944c'] | ['Enumeration', 'Active Directory', 'AGPT'] |\n",
      "|                                      |                                   | Leveraging Native Commands and PowerView |                                      |                                                                                                                                                                                                          |                                             |\n",
      "+--------------------------------------+-----------------------------------+------------------------------------------+--------------------------------------+----------------------------------------------------------------------------------------------------------------------------------------------------------------------------------------------------------+---------------------------------------------+\n"
     ]
    }
   ],
   "source": [
    "_ = caldera.get_adversary_profiles(new_profile['adversary_id'], print_table=True)"
   ]
  },
  {
   "cell_type": "markdown",
   "metadata": {},
   "source": [
    "## Get Agents"
   ]
  },
  {
   "cell_type": "markdown",
   "metadata": {},
   "source": [
    "We can confirm we have an agent live to schedule an operation with"
   ]
  },
  {
   "cell_type": "code",
   "execution_count": 13,
   "metadata": {},
   "outputs": [
    {
     "name": "stdout",
     "output_type": "stream",
     "text": [
      "URL: http://3.141.7.127:8888/api/v2/agents?\n",
      "+--------+----------+----------+----------+----------------+-------+----------------------+\n",
      "|  Paw   |   Name   | Platform | Protocol |   Executors    | Group |      Last Seen       |\n",
      "+--------+----------+----------+----------+----------------+-------+----------------------+\n",
      "| djqtzk | ar-win-2 | windows  |   HTTP   | psh, proc, cmd |  red  | 2024-05-26T14:50:35Z |\n",
      "+--------+----------+----------+----------+----------------+-------+----------------------+\n"
     ]
    }
   ],
   "source": [
    "agents = caldera.get_agents()"
   ]
  },
  {
   "cell_type": "markdown",
   "metadata": {},
   "source": [
    "## Start Operation"
   ]
  },
  {
   "cell_type": "markdown",
   "metadata": {},
   "source": [
    "We can now create a new operation with our adversary profile to execute on red group hosts"
   ]
  },
  {
   "cell_type": "code",
   "execution_count": 15,
   "metadata": {},
   "outputs": [
    {
     "name": "stdout",
     "output_type": "stream",
     "text": [
      "URL: http://3.141.7.127:8888/api/v2/operations\n",
      "AGPT Operation has status: running\n"
     ]
    }
   ],
   "source": [
    "operation = caldera.add_operation(\n",
    "    name=\"AGPT Operation\",\n",
    "    adversary_id=new_profile['adversary_id'],\n",
    "    group='red',\n",
    "    state='running'\n",
    ")\n",
    "print(f\"{operation['name']} has status: {operation['state']}\")"
   ]
  }
 ],
 "metadata": {
  "kernelspec": {
   "display_name": "Python 3",
   "language": "python",
   "name": "python3"
  },
  "language_info": {
   "codemirror_mode": {
    "name": "ipython",
    "version": 3
   },
   "file_extension": ".py",
   "mimetype": "text/x-python",
   "name": "python",
   "nbconvert_exporter": "python",
   "pygments_lexer": "ipython3",
   "version": "3.9.19"
  }
 },
 "nbformat": 4,
 "nbformat_minor": 2
}
